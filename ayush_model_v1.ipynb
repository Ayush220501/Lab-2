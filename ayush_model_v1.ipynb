{
 "cells": [
  {
   "cell_type": "code",
   "execution_count": 11,
   "id": "a7cdb813-9e04-46fe-869e-49a8b86dd13e",
   "metadata": {},
   "outputs": [],
   "source": [
    "# Import necessary libraries\n",
    "import pandas as pd\n",
    "from sklearn.model_selection import train_test_split\n",
    "from sklearn.linear_model import LogisticRegression\n",
    "from sklearn.metrics import accuracy_score, classification_report\n",
    "import matplotlib.pyplot as plt\n",
    "import seaborn as sns\n",
    "from ucimlrepo import fetch_ucirepo"
   ]
  },
  {
   "cell_type": "code",
   "execution_count": 12,
   "id": "608398aa-af64-4c6e-a4a6-b2ca27e48eb8",
   "metadata": {},
   "outputs": [],
   "source": [
    "# Fetch Breast Cancer Wisconsin (Diagnostic) dataset\n",
    "breast_cancer_data = fetch_ucirepo(id=17)\n",
    "X, y = breast_cancer_data.data.features, breast_cancer_data.data.targets"
   ]
  },
  {
   "cell_type": "code",
   "execution_count": 13,
   "id": "ac452095-b971-4b30-a97e-aaed1fb163ce",
   "metadata": {},
   "outputs": [],
   "source": [
    "# Create DataFrame from features and targets\n",
    "data = pd.DataFrame(X, columns=breast_cancer_data.data.feature_names)\n",
    "data['Diagnosis'] = y\n",
    "\n",
    "# Separate features (X) and target variable (y)\n",
    "X = data.drop('Diagnosis', axis=1)\n",
    "y = data['Diagnosis']"
   ]
  },
  {
   "cell_type": "code",
   "execution_count": 14,
   "id": "444b6be6-ff86-4a3c-8fc4-ed386876993c",
   "metadata": {},
   "outputs": [
    {
     "name": "stderr",
     "output_type": "stream",
     "text": [
      "C:\\Users\\aksha\\anaconda3\\Lib\\site-packages\\sklearn\\linear_model\\_logistic.py:469: ConvergenceWarning: lbfgs failed to converge (status=1):\n",
      "STOP: TOTAL NO. of ITERATIONS REACHED LIMIT.\n",
      "\n",
      "Increase the number of iterations (max_iter) or scale the data as shown in:\n",
      "    https://scikit-learn.org/stable/modules/preprocessing.html\n",
      "Please also refer to the documentation for alternative solver options:\n",
      "    https://scikit-learn.org/stable/modules/linear_model.html#logistic-regression\n",
      "  n_iter_i = _check_optimize_result(\n"
     ]
    }
   ],
   "source": [
    "# Split the data into training and testing sets\n",
    "X_train, X_test, y_train, y_test = train_test_split(X, y, test_size=0.2, random_state=42)\n",
    "\n",
    "# Build a Logistic Regression model without standardizing features\n",
    "model = LogisticRegression()\n",
    "model.fit(X_train, y_train)\n",
    "\n",
    "# Make predictions on the test set\n",
    "y_pred = model.predict(X_test)\n",
    "\n",
    "# Evaluate the model\n",
    "accuracy = accuracy_score(y_test, y_pred)\n",
    "classification_rep = classification_report(y_test, y_pred)"
   ]
  },
  {
   "cell_type": "code",
   "execution_count": 15,
   "id": "8d6613d9-9c2d-41ac-8ee7-ba41d37ea10a",
   "metadata": {},
   "outputs": [
    {
     "name": "stdout",
     "output_type": "stream",
     "text": [
      "Accuracy: 0.9649122807017544\n"
     ]
    }
   ],
   "source": [
    "#Accuracy Score\n",
    "print(f\"Accuracy: {accuracy}\")"
   ]
  },
  {
   "cell_type": "code",
   "execution_count": 16,
   "id": "18f671a3-e6cc-40ed-8524-e0de1f7e55f5",
   "metadata": {},
   "outputs": [
    {
     "name": "stdout",
     "output_type": "stream",
     "text": [
      "Classification Report:\n",
      "               precision    recall  f1-score   support\n",
      "\n",
      "           B       0.96      0.99      0.97        71\n",
      "           M       0.98      0.93      0.95        43\n",
      "\n",
      "    accuracy                           0.96       114\n",
      "   macro avg       0.97      0.96      0.96       114\n",
      "weighted avg       0.97      0.96      0.96       114\n",
      "\n"
     ]
    }
   ],
   "source": [
    "print(\"Classification Report:\\n\", classification_rep)"
   ]
  },
  {
   "cell_type": "code",
   "execution_count": 17,
   "id": "c3665291-a4ca-454c-904a-c7878087493c",
   "metadata": {},
   "outputs": [
    {
     "name": "stdout",
     "output_type": "stream",
     "text": [
      "\n",
      "Columns in the Dataset:\n",
      "   radius1  texture1  perimeter1   area1  smoothness1  compactness1  \\\n",
      "0    17.99     10.38      122.80  1001.0      0.11840       0.27760   \n",
      "1    20.57     17.77      132.90  1326.0      0.08474       0.07864   \n",
      "2    19.69     21.25      130.00  1203.0      0.10960       0.15990   \n",
      "3    11.42     20.38       77.58   386.1      0.14250       0.28390   \n",
      "4    20.29     14.34      135.10  1297.0      0.10030       0.13280   \n",
      "\n",
      "   concavity1  concave_points1  symmetry1  fractal_dimension1  ...  texture3  \\\n",
      "0      0.3001          0.14710     0.2419             0.07871  ...     17.33   \n",
      "1      0.0869          0.07017     0.1812             0.05667  ...     23.41   \n",
      "2      0.1974          0.12790     0.2069             0.05999  ...     25.53   \n",
      "3      0.2414          0.10520     0.2597             0.09744  ...     26.50   \n",
      "4      0.1980          0.10430     0.1809             0.05883  ...     16.67   \n",
      "\n",
      "   perimeter3   area3  smoothness3  compactness3  concavity3  concave_points3  \\\n",
      "0      184.60  2019.0       0.1622        0.6656      0.7119           0.2654   \n",
      "1      158.80  1956.0       0.1238        0.1866      0.2416           0.1860   \n",
      "2      152.50  1709.0       0.1444        0.4245      0.4504           0.2430   \n",
      "3       98.87   567.7       0.2098        0.8663      0.6869           0.2575   \n",
      "4      152.20  1575.0       0.1374        0.2050      0.4000           0.1625   \n",
      "\n",
      "   symmetry3  fractal_dimension3  Diagnosis  \n",
      "0     0.4601             0.11890          M  \n",
      "1     0.2750             0.08902          M  \n",
      "2     0.3613             0.08758          M  \n",
      "3     0.6638             0.17300          M  \n",
      "4     0.2364             0.07678          M  \n",
      "\n",
      "[5 rows x 31 columns]\n"
     ]
    }
   ],
   "source": [
    "# Display the first few rows of the dataset\n",
    "print(\"\\nColumns in the Dataset:\")\n",
    "print(data.head())\n"
   ]
  },
  {
   "cell_type": "code",
   "execution_count": 21,
   "id": "7d5417e4-e27f-46ca-a508-d4d406c1dfd4",
   "metadata": {},
   "outputs": [
    {
     "name": "stderr",
     "output_type": "stream",
     "text": [
      "C:\\Users\\aksha\\AppData\\Local\\Temp\\ipykernel_8412\\2883818433.py:6: FutureWarning: \n",
      "\n",
      "Passing `palette` without assigning `hue` is deprecated and will be removed in v0.14.0. Assign the `x` variable to `hue` and set `legend=False` for the same effect.\n",
      "\n",
      "  sns.countplot(x='Diagnosis', data=data, palette=\"Set2\")\n"
     ]
    },
    {
     "data": {
      "image/png": "[encoded data removed]",
      "text/plain": [
       "<Figure size 800x600 with 1 Axes>"
      ]
     },
     "metadata": {},
     "output_type": "display_data"
    },
    {
     "data": {
      "text/plain": [
       "<Figure size 640x480 with 0 Axes>"
      ]
     },
     "metadata": {},
     "output_type": "display_data"
    }
   ],
   "source": [
    "# Set a colorful Seaborn style\n",
    "sns.set(style=\"whitegrid\", palette=\"pastel\")\n",
    "\n",
    "# Visualize the distribution of the target classes with color\n",
    "plt.figure(figsize=(8, 6))\n",
    "sns.countplot(x='Diagnosis', data=data, palette=\"Set2\")\n",
    "plt.title('Distribution of Diagnosis', fontsize=16)\n",
    "plt.xlabel('Diagnosis', fontsize=14)\n",
    "plt.ylabel('Count', fontsize=14)\n",
    "plt.show()\n",
    "\n",
    "plt.tight_layout()\n",
    "plt.show()"
   ]
  },
  {
   "cell_type": "code",
   "execution_count": null,
   "id": "9a946dc1-4dbd-4994-9e3b-502c14e91144",
   "metadata": {},
   "outputs": [],
   "source": []
  },
  {
   "cell_type": "code",
   "execution_count": null,
   "id": "c0aa006d-db7f-4601-8579-7e37e7e2c724",
   "metadata": {},
   "outputs": [],
   "source": []
  },
  {
   "cell_type": "code",
   "execution_count": null,
   "id": "c5c67427-62c4-46ab-867b-acd744520de0",
   "metadata": {},
   "outputs": [],
   "source": []
  }
 ],
 "metadata": {
  "kernelspec": {
   "display_name": "Python 3 (ipykernel)",
   "language": "python",
   "name": "python3"
  },
  "language_info": {
   "codemirror_mode": {
    "name": "ipython",
    "version": 3
   },
   "file_extension": ".py",
   "mimetype": "text/x-python",
   "name": "python",
   "nbconvert_exporter": "python",
   "pygments_lexer": "ipython3",
   "version": "3.11.5"
  }
 },
 "nbformat": 4,
 "nbformat_minor": 5
}
